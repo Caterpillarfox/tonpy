{
 "cells": [
  {
   "cell_type": "code",
   "execution_count": 1,
   "id": "51d2c19d",
   "metadata": {},
   "outputs": [],
   "source": [
    "import sys\n",
    "sys.path.append(\"../src\")\n",
    "\n",
    "import requests\n",
    "\n",
    "from tonpy import LiteClient, Cell, get_block_info, BlockId, BlockIdExt, Address, Emulator, begin_cell\n",
    "from tonpy.utils.shard_account import shard_is_ancestor, shard_child\n",
    "from tonpy.autogen.block import Account, Transaction, Block, BlockInfo, BlockExtra, MessageAny, AccountState\n",
    "\n",
    "\n",
    "# Ignore some logs from ton monorepo\n",
    "from tonpy.libs.python_ton import globalSetVerbosity\n",
    "globalSetVerbosity(0)"
   ]
  },
  {
   "cell_type": "code",
   "execution_count": 2,
   "id": "324c0ebb",
   "metadata": {},
   "outputs": [],
   "source": [
    "# Example hashes:\n",
    "#   27 txs in 1 block: 184C0C0EF74E279E63B363FCC81168AEB4C3769E4991FAF6982A5E232EE88541\n",
    "#   After merge: 7A074921055E014CE6B5E7C929B12D9789F5419E771F1BD98C379A57DA15064A\n",
    "#   TickTock: F8EAC78DA7005B67B4A473CB77CF90ACD4A31B883E0E6C2806ADB4C0D2B3E616"
   ]
  },
  {
   "cell_type": "code",
   "execution_count": 3,
   "id": "d88af345",
   "metadata": {},
   "outputs": [],
   "source": [
    "tx_hash = \"184C0C0EF74E279E63B363FCC81168AEB4C3769E4991FAF6982A5E232EE88541\""
   ]
  },
  {
   "cell_type": "code",
   "execution_count": 4,
   "id": "a0a0ca4d",
   "metadata": {},
   "outputs": [],
   "source": [
    "def get_tx_lt(tx_hash):\n",
    "    query = '''query{transactions(hash: \"%s\"){lt,address,workchain,shard}}''' % tx_hash\n",
    "\n",
    "    response = requests.post(\"https://dton.io/graphql\", json={'query': query})\n",
    "    \n",
    "    data = response.json()['data']['transactions'][0]\n",
    "    return int(data['lt']), int(data['workchain']), str(data['address']), str(data['shard'])"
   ]
  },
  {
   "cell_type": "code",
   "execution_count": 5,
   "id": "18fb8525",
   "metadata": {},
   "outputs": [],
   "source": [
    "# You can not trust this data from dton.io, but IF it's correct it'll be prooved by `get_transactions` later\n",
    "tx_lt, wc, address, shard = get_tx_lt(tx_hash)\n",
    "block_lt = tx_lt - tx_lt % 1000000\n",
    "\n",
    "tx_account = Address(f\"{wc}:{address}\")"
   ]
  },
  {
   "cell_type": "code",
   "execution_count": 6,
   "id": "7eb83d86",
   "metadata": {},
   "outputs": [],
   "source": [
    "# Get random LiteServer\n",
    "lc = LiteClient.get_one()\n",
    "\n",
    "# When you get transaction - you automatically proof validness by tx_hash\n",
    "transactions = lc.get_transactions(tx_account, tx_lt, tx_hash, 16).transactions\n",
    "\n",
    "# We need to get all TXs in this block\n",
    "whitelist_txs = [transactions[0]]\n",
    "get_state_from = None\n",
    "cur_index = 0\n",
    "\n",
    "if len(transactions) > 1:\n",
    "    done = transactions[0].blkid != transactions[1].blkid\n",
    "else:\n",
    "    done = True\n",
    "    \n",
    "while not done:\n",
    "    cur_index += 1\n",
    "    if cur_index > len(transactions) - 1:\n",
    "        # Get new 16txs to load\n",
    "        transactions.extend(lc.get_transactions(tx_account, \n",
    "                                          whitelist_txs[-1].prev_trans_lt, \n",
    "                                          whitelist_txs[-1].prev_trans_hash, 16).transactions)\n",
    "    if cur_index > len(transactions):\n",
    "        break\n",
    "    \n",
    "    if whitelist_txs[-1].blkid == transactions[cur_index].blkid:\n",
    "        whitelist_txs.append(transactions[cur_index])\n",
    "    else:\n",
    "        done = True\n",
    "        "
   ]
  },
  {
   "cell_type": "code",
   "execution_count": 7,
   "id": "ad0e90be",
   "metadata": {},
   "outputs": [
    {
     "name": "stdout",
     "output_type": "stream",
     "text": [
      "To emulate, before our TX:  26\n"
     ]
    }
   ],
   "source": [
    "# If there >1 TX in block - we need to emulate all of them before our one\n",
    "print(\"To emulate, before our TX: \", len(whitelist_txs) - 1)\n",
    "\n",
    "whitelist_txs = list(reversed(whitelist_txs))"
   ]
  },
  {
   "cell_type": "code",
   "execution_count": 8,
   "id": "f9b17441",
   "metadata": {},
   "outputs": [
    {
     "name": "stdout",
     "output_type": "stream",
     "text": [
      "Current block:  (0,8000000000000000,41341632):00421695EEF1F99B1237382C3AF75A24A9C030D4439A7D33A1369A42A6544068:C580B44DEF34FA3CCE302FF888639CDB28C5845875DD4A28DC63E405E4DF3910 \n",
      "\n",
      "Master block:  (-1,8000000000000000,35509189):57F17494F7E835E9CA1B8F72293BAC12F92B5B8BC9DD25AC3528C8D77EB61CC1:0DBC1334D1008A4AA3CB548C6495058A1B0274C0783F0F681E4FCBA6012ED2E0 \n",
      "\n"
     ]
    }
   ],
   "source": [
    "# Get block with prev state\n",
    "# WARNING: this block is not proofed\n",
    "state_block = whitelist_txs[0].blkid\n",
    "current_block = lc.get_block_header(state_block)\n",
    "print(\"Current block: \", current_block.blk_id, \"\\n\")\n",
    "\n",
    "# We need to get master block, so we can download libs and config\n",
    "if wc != -1:\n",
    "    # tlb python autogen\n",
    "    block = Block().cell_unpack(current_block.virt_blk_root)\n",
    "    block_info = BlockInfo().cell_unpack(block.info, True)\n",
    "    \n",
    "    # get master block id from WC\n",
    "    master = BlockIdExt(id_=BlockId(-1, 0x8000000000000000, block_info.master_ref.master.seq_no), \n",
    "          file_hash=int(block_info.master_ref.master.file_hash, 2), \n",
    "          root_hash=int(block_info.master_ref.master.root_hash, 2))\n",
    "else:\n",
    "    master = current_block.blk_id\n",
    "\n",
    "print(\"Master block: \", master, \"\\n\")\n"
   ]
  },
  {
   "cell_type": "code",
   "execution_count": 9,
   "id": "077fbbf8",
   "metadata": {},
   "outputs": [],
   "source": [
    "# Need to get rand_seed for block and get prev block with account state\n",
    "current_full_block = lc.get_block(current_block.blk_id)\n",
    "\n",
    "# It's stored in blockExtra\n",
    "block = Block().cell_unpack(current_full_block)\n",
    "block_info = BlockInfo().cell_unpack(block.info, True)\n",
    "block_extra = BlockExtra().cell_unpack(block.extra, False)\n",
    "\n",
    "rand_seed = int(block_extra.rand_seed, 2)"
   ]
  },
  {
   "cell_type": "code",
   "execution_count": 10,
   "id": "fa0d21c9",
   "metadata": {},
   "outputs": [],
   "source": [
    "# To get prev block with account state - need to calculate correct shard (with account) if block is after merge\n",
    "# If not after merge - just get prev seqno\n",
    "if block_info.after_merge:    \n",
    "    left = block_info.prev_ref.prev1\n",
    "    left_shard = BlockIdExt(BlockId(wc, shard_child(current_block.blk_id.id.shard, True), left.seq_no),\n",
    "                           root_hash=int(left.root_hash,2), file_hash=int(left.file_hash, 2))\n",
    "    \n",
    "    right = block_info.prev_ref.prev2\n",
    "    right_shard = BlockIdExt(BlockId(wc, shard_child(current_block.blk_id.id.shard, False), right.seq_no),\n",
    "                           root_hash=int(right.root_hash,2), file_hash=int(right.file_hash, 2))\n",
    "    \n",
    "    if shard_is_ancestor(left_shard.id.shard, tx_account.shard_prefix(60)):\n",
    "        state_block = left_shard\n",
    "    else:\n",
    "        state_block = right_shard\n",
    "else:\n",
    "    current = block_info.prev_ref.prev\n",
    "    state_block = BlockIdExt(BlockId(wc, current_block.blk_id.id.shard, current.seq_no),\n",
    "                           root_hash=int(current.root_hash,2), file_hash=int(current.file_hash, 2))"
   ]
  },
  {
   "cell_type": "code",
   "execution_count": 11,
   "id": "98b772e8",
   "metadata": {},
   "outputs": [
    {
     "name": "stdout",
     "output_type": "stream",
     "text": [
      "State block:  (0,8000000000000000,41341631):5BC3E316CE6DD6E5139D1A63878BE42ED409C270F9DC05E19D2B23E5894B03C1:C0C9D1B7758391EB618B920B12344DFD5E2DACBFB8D4BF1EAC1F550B414963BC \n",
      "\n"
     ]
    }
   ],
   "source": [
    "print(\"State block: \", state_block, \"\\n\")"
   ]
  },
  {
   "cell_type": "code",
   "execution_count": 12,
   "id": "2e5ecda0",
   "metadata": {},
   "outputs": [],
   "source": [
    "# Load account state from prev block\n",
    "account_state = lc.get_account_state(f\"{wc}:{address}\", state_block)\n",
    "\n",
    "# Convert answer to AccountShardState\n",
    "account_state = begin_cell() \\\n",
    "    .store_ref(account_state.root) \\\n",
    "    .store_uint(int(account_state.last_trans_hash, 16), 256) \\\n",
    "    .store_uint(account_state.last_trans_lt, 64).end_cell()"
   ]
  },
  {
   "cell_type": "code",
   "execution_count": 13,
   "id": "5c89b9b6",
   "metadata": {},
   "outputs": [],
   "source": [
    "# Load config of prev key block of MC block where TX was\n",
    "# WARNING: this key block have no proof\n",
    "key_block, config = lc.get_config_all(master, from_not_trusted_keyblock=True)"
   ]
  },
  {
   "cell_type": "code",
   "execution_count": 14,
   "id": "93c12e5a",
   "metadata": {},
   "outputs": [
    {
     "name": "stdout",
     "output_type": "stream",
     "text": [
      "Latest key block:  (-1,8000000000000000,35494831):91B837E3B52FF9B3F92290584605D525633280CAD34150298BAC1CE91950E07E:84C5CC5B5B9A7007E1BFEA78F3AA82A82B19681E61E274DA2211727C5BDF9207\n"
     ]
    }
   ],
   "source": [
    "print(\"Latest key block: \", key_block)"
   ]
  },
  {
   "cell_type": "code",
   "execution_count": 15,
   "id": "2048593a",
   "metadata": {},
   "outputs": [],
   "source": [
    "# for emulation you need to get 16 latest mc blocks + 1 key block\n",
    "old_mc_blocks = []\n",
    "cur_seqno = master.id.seqno\n",
    "\n",
    "for i in range(16):\n",
    "    cur_seqno -= 1\n",
    "    old_mc_blocks.append(lc.lookup_block(BlockId(-1, 0x8000000000000000, cur_seqno)).blk_id)"
   ]
  },
  {
   "cell_type": "code",
   "execution_count": 16,
   "id": "cde1fc69",
   "metadata": {},
   "outputs": [],
   "source": [
    "prev_block_data = [\n",
    "    [i.to_data() for i in old_mc_blocks],\n",
    "    key_block.to_data()\n",
    "]"
   ]
  },
  {
   "cell_type": "code",
   "execution_count": 17,
   "id": "0dbdda38",
   "metadata": {},
   "outputs": [],
   "source": [
    "# Here we need to get all public libraries (todo: rewrite on new LS API if it'll be published)\n",
    "# Alternative: deep_library_search \n",
    "def get_public_libs(block_hash):\n",
    "    query = '''query{blocks(root_hash: \"%s\"){libs_hash}}''' % block_hash\n",
    "\n",
    "    response = requests.post(\"https://dton.io/graphql\", json={'query': query})\n",
    "    \n",
    "    data = response.json()['data']['blocks'][0]\n",
    "    return data['libs_hash']"
   ]
  },
  {
   "cell_type": "code",
   "execution_count": 18,
   "id": "73ec289e",
   "metadata": {},
   "outputs": [
    {
     "name": "stdout",
     "output_type": "stream",
     "text": [
      "Found:  35  public libs\n"
     ]
    }
   ],
   "source": [
    "public_libs = get_public_libs(master.root_hash)\n",
    "\n",
    "print(\"Found: \", len(public_libs), \" public libs\")\n",
    "\n",
    "libs_data = lc.get_libraries(public_libs)"
   ]
  },
  {
   "cell_type": "code",
   "execution_count": 19,
   "id": "b704a273",
   "metadata": {},
   "outputs": [],
   "source": [
    "# Now create emulator with all needed info\n",
    "em = Emulator(config)\n",
    "\n",
    "em.set_rand_seed(rand_seed)\n",
    "em.set_prev_blocks_info(prev_block_data)\n",
    "em.set_libs(libs_data)"
   ]
  },
  {
   "cell_type": "code",
   "execution_count": 20,
   "id": "c4131ee2",
   "metadata": {},
   "outputs": [
    {
     "name": "stdout",
     "output_type": "stream",
     "text": [
      "Emulate DCA82F938264969E0A1C6D3DD6BE1E879260D8D17A1831F416DA3424FEC05ABD success\n",
      "Emulate 5BF39853599F46BDE7E9845C701A74A437F59A0AF7771B030E6E968729FBD77E success\n",
      "Emulate E7D884136024FC66956E2D55AD321673DCABDBF906B5B3D4F7BB41026284AC44 success\n",
      "Emulate 895AD56272482D3C832D6C04735442606054E0CA2F407820BFCBC82FC10134F1 success\n",
      "Emulate 7632D2383D419FD6F025128CA6D3AE61EF340813555CE91BED934086ADB147F4 success\n",
      "Emulate A0633E1620986FF573EA0AFA167A0AE9CD4059C39C926F3C6FC7AAA42CE7F997 success\n",
      "Emulate 6E42101DD5FDA37FA82DAB1417AB1DCE1C1B74B6A09AC7280F83E58A1DE95A48 success\n",
      "Emulate BD23D11FDAE73E64BDD7E160638629F793A8690A06F8487AD024C021843F588B success\n",
      "Emulate 9F0AB5E4E29A13DB61DEF67F7FA12D09F247D8BC9C895ED31678577B5F4D0C52 success\n",
      "Emulate F33DD2FCB29C4721A14C5E4782A12B9BDC5A75BF7D3088674BDAB4BC9D34E11F success\n",
      "Emulate EF4E27E96A447AF2B0EE51677E3B4CBA67BA89C45884155BF4A290E547054F22 success\n",
      "Emulate E7CBCD016B6A9177F46DFD245F48C568DCA64C20EF1E6AA17B756DC23A803DED success\n",
      "Emulate D36318CC0A98F0E0683D95D7EE4C9BD9D08870303145DAC66725D30B02ACD899 success\n",
      "Emulate BB4A63F6B7331208700899F132F89A23B991EBE6FB3851F1E968A460C33FC67B success\n",
      "Emulate E45B4934F08C8D06F850796A2A111B9CECFDEDAEC464A3B8C5B603F448A99962 success\n",
      "Emulate 377840FA9A0F3365A2B5DEE15EACC81ECE0A56E38296A01F01D3CC523E691CBF success\n",
      "Emulate 28DF330E5B94F0AA5BAD5D5106808DA42C77981606C394A415751EE1DC4B93F8 success\n",
      "Emulate EFFDEFD9F40498A10B085135AB8D3C307FB30F065FD9C17E43F07EBEC58E5D9D success\n",
      "Emulate BD6E6B2EC479BF5249EDC59B26FE39267FF51CFD922D280600F8CC037835B586 success\n",
      "Emulate F7F96C2133410AF9C78D46E571CFC49E9F773DE50FB16F651C50A569CE6C60F0 success\n",
      "Emulate 6AC17800E6CFB45B8C447626064127EA3A5D310FA05AEEB604709DE2801801B5 success\n",
      "Emulate 90EC167E0854B030AF0BD7EF73F1D1E2E860F844F55FB59913E348AAAAA65552 success\n",
      "Emulate 5C9E6A4523A14DF1F17874C6D8B2F057C5D876934AD02A0263D936994C71A9DE success\n",
      "Emulate 3F71B7855C16119DB3A798572CF6626B39A10870D5C92D6C047E592EBB88EC32 success\n",
      "Emulate E3331A3D5F49D1C298EA8AFF62A732E2C221386F0D90F7871159323ECC0EB205 success\n",
      "Emulate EB8B1F45EFDB46371A358C586E11E0057480DA5A123B2F74B6A603635E746FC5 success\n",
      "Emulate 184C0C0EF74E279E63B363FCC81168AEB4C3769E4991FAF6982A5E232EE88541 success\n"
     ]
    }
   ],
   "source": [
    "for tx in whitelist_txs:\n",
    "    # Get current transaction LT & now\n",
    "    current_tx = tx.transaction\n",
    "\n",
    "    tx_tlb = Transaction()\n",
    "    tx_tlb = tx_tlb.cell_unpack(current_tx, True)\n",
    "\n",
    "    lt = tx_tlb.lt\n",
    "    now = tx_tlb.now\n",
    "    \n",
    "    # Get current trasaction in_msg\n",
    "    current_tx_cs = current_tx.begin_parse()\n",
    "    tmp = current_tx_cs.load_ref(as_cs=True)\n",
    "\n",
    "    if tmp.load_bool():\n",
    "        in_msg = tmp.load_ref()\n",
    "    else:\n",
    "        # TICK TOCK\n",
    "        in_msg = None\n",
    "\n",
    "    if in_msg is None:\n",
    "        success = em.emulate_tick_tock_transaction(\n",
    "                    account_state,\n",
    "                    tx_tlb.description.is_tock,\n",
    "                    now,\n",
    "                    lt\n",
    "                )\n",
    "    else:\n",
    "        # Emulate\n",
    "        success = em.emulate_transaction(\n",
    "            account_state,\n",
    "            in_msg,\n",
    "            now,\n",
    "            lt\n",
    "        )\n",
    "        \n",
    "    assert success\n",
    "    \n",
    "    # Emulation transaction equal current transaction\n",
    "    assert em.transaction.get_hash() == current_tx.get_hash()\n",
    "    print(f\"Emulate {current_tx.get_hash()} success\")\n",
    "    \n",
    "    # Update account state, go to next transaction\n",
    "    account_state = em.account.to_cell()"
   ]
  },
  {
   "cell_type": "code",
   "execution_count": null,
   "id": "3a892141",
   "metadata": {},
   "outputs": [],
   "source": []
  }
 ],
 "metadata": {
  "kernelspec": {
   "display_name": "Python 3 (ipykernel)",
   "language": "python",
   "name": "python3"
  },
  "language_info": {
   "codemirror_mode": {
    "name": "ipython",
    "version": 3
   },
   "file_extension": ".py",
   "mimetype": "text/x-python",
   "name": "python",
   "nbconvert_exporter": "python",
   "pygments_lexer": "ipython3",
   "version": "3.9.17"
  }
 },
 "nbformat": 4,
 "nbformat_minor": 5
}
