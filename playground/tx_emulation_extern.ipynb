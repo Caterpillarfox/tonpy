{
 "cells": [
  {
   "cell_type": "code",
   "execution_count": 1,
   "id": "51d2c19d",
   "metadata": {},
   "outputs": [],
   "source": [
    "import sys\n",
    "sys.path.append(\"../src\")\n",
    "\n",
    "import requests\n",
    "\n",
    "from tonpy import LiteClient, Cell, get_block_info, BlockId, BlockIdExt, \\\n",
    "        Address, Emulator, begin_cell, StackEntry, VmDict, CellSlice\n",
    "\n",
    "from tonpy.utils.shard_account import shard_is_ancestor, shard_child\n",
    "from tonpy.libs.python_ton import Bits256\n",
    "from tonpy.autogen.block import Account, Transaction, Block, BlockInfo, BlockExtra, MessageAny, AccountState"
   ]
  },
  {
   "cell_type": "code",
   "execution_count": 2,
   "id": "6e2e00f0",
   "metadata": {},
   "outputs": [],
   "source": [
    "# Example hashes:\n",
    "#   27 txs in 1 block: 184C0C0EF74E279E63B363FCC81168AEB4C3769E4991FAF6982A5E232EE88541\n",
    "#   After merge: 7A074921055E014CE6B5E7C929B12D9789F5419E771F1BD98C379A57DA15064A\n",
    "#   TickTock: F8EAC78DA7005B67B4A473CB77CF90ACD4A31B883E0E6C2806ADB4C0D2B3E616"
   ]
  },
  {
   "cell_type": "code",
   "execution_count": 3,
   "id": "d88af345",
   "metadata": {},
   "outputs": [],
   "source": [
    "tx_hash = \"F8EAC78DA7005B67B4A473CB77CF90ACD4A31B883E0E6C2806ADB4C0D2B3E616\""
   ]
  },
  {
   "cell_type": "code",
   "execution_count": 4,
   "id": "a0a0ca4d",
   "metadata": {},
   "outputs": [],
   "source": [
    "def get_tx_lt(tx_hash):\n",
    "    query = '''query{transactions(hash: \"%s\"){lt,address,workchain,shard}}''' % tx_hash\n",
    "\n",
    "    response = requests.post(\"https://dton.io/graphql\", json={'query': query})\n",
    "    \n",
    "    data = response.json()['data']['transactions'][0]\n",
    "    return int(data['lt']), int(data['workchain']), str(data['address']), str(data['shard'])"
   ]
  },
  {
   "cell_type": "code",
   "execution_count": 5,
   "id": "18fb8525",
   "metadata": {},
   "outputs": [],
   "source": [
    "# You can not trust this data from dton.io, but IF it's correct it'll be prooved by `get_transactions` later\n",
    "tx_lt, wc, address, shard = get_tx_lt(tx_hash)\n",
    "block_lt = tx_lt - tx_lt % 1000000\n",
    "\n",
    "tx_account = Address(f\"{wc}:{address}\")"
   ]
  },
  {
   "cell_type": "code",
   "execution_count": 6,
   "id": "7eb83d86",
   "metadata": {},
   "outputs": [],
   "source": [
    "# Get random LiteServer\n",
    "lc = LiteClient(mode='roundrobin', threads=1)\n",
    "\n",
    "# When you get transaction - you automatically proof validness by tx_hash\n",
    "transactions = lc.get_transactions(tx_account, tx_lt, tx_hash, 16).transactions\n",
    "\n",
    "# We need to get all TXs in this block\n",
    "whitelist_txs = [transactions[0]]\n",
    "get_state_from = None\n",
    "cur_index = 0\n",
    "\n",
    "if len(transactions) > 1:\n",
    "    done = transactions[0].blkid != transactions[1].blkid\n",
    "else:\n",
    "    done = True\n",
    "    \n",
    "while not done:\n",
    "    cur_index += 1\n",
    "    if cur_index > len(transactions) - 1:\n",
    "        # Get new 16txs to load\n",
    "        transactions.extend(lc.get_transactions(tx_account, \n",
    "                                          whitelist_txs[-1].prev_trans_lt, \n",
    "                                          whitelist_txs[-1].prev_trans_hash, 16).transactions)\n",
    "    if cur_index > len(transactions):\n",
    "        break\n",
    "    \n",
    "    if whitelist_txs[-1].blkid == transactions[cur_index].blkid:\n",
    "        whitelist_txs.append(transactions[cur_index])\n",
    "    else:\n",
    "        done = True\n",
    "        "
   ]
  },
  {
   "cell_type": "code",
   "execution_count": 7,
   "id": "ad0e90be",
   "metadata": {},
   "outputs": [
    {
     "name": "stdout",
     "output_type": "stream",
     "text": [
      "To emulate, before our TX:  1\n"
     ]
    }
   ],
   "source": [
    "# If there >1 TX in block - we need to emulate all of them before our one\n",
    "print(\"To emulate, before our TX: \", len(whitelist_txs) - 1)\n",
    "\n",
    "whitelist_txs = list(reversed(whitelist_txs))"
   ]
  },
  {
   "cell_type": "code",
   "execution_count": 8,
   "id": "f9b17441",
   "metadata": {},
   "outputs": [
    {
     "name": "stdout",
     "output_type": "stream",
     "text": [
      "Current block:  (-1,8000000000000000,35573005):8921A1146420537E3959AE613CB8697FBF81BA012E1B89BB75D22B1993E51D35:2DE332C4ADE6364F277E91DEC3359EB51E8E6DA161AA36DD363CAFE08902BB7A \n",
      "\n",
      "Master block:  (-1,8000000000000000,35573005):8921A1146420537E3959AE613CB8697FBF81BA012E1B89BB75D22B1993E51D35:2DE332C4ADE6364F277E91DEC3359EB51E8E6DA161AA36DD363CAFE08902BB7A \n",
      "\n"
     ]
    }
   ],
   "source": [
    "# Get block with prev state\n",
    "# WARNING: this block is not proofed\n",
    "state_block = whitelist_txs[0].blkid\n",
    "current_block = lc.get_block_header(state_block)\n",
    "print(\"Current block: \", current_block.blk_id, \"\\n\")\n",
    "\n",
    "# We need to get master block, so we can download libs and config\n",
    "if wc != -1:\n",
    "    # tlb python autogen\n",
    "    block = Block().cell_unpack(current_block.virt_blk_root)\n",
    "    block_info = BlockInfo().cell_unpack(block.info, True)\n",
    "    \n",
    "    # get master block id from WC\n",
    "    master = BlockIdExt(id_=BlockId(-1, 0x8000000000000000, block_info.master_ref.master.seq_no), \n",
    "          file_hash=int(block_info.master_ref.master.file_hash, 2), \n",
    "          root_hash=int(block_info.master_ref.master.root_hash, 2))\n",
    "else:\n",
    "    master = current_block.blk_id\n",
    "\n",
    "print(\"Master block: \", master, \"\\n\")\n"
   ]
  },
  {
   "cell_type": "code",
   "execution_count": 9,
   "id": "8d89bb24",
   "metadata": {},
   "outputs": [],
   "source": [
    "# Need to get rand_seed for block and get prev block with account state\n",
    "current_full_block = lc.get_block(current_block.blk_id)\n",
    "\n",
    "# It's stored in blockExtra\n",
    "block = Block().cell_unpack(current_full_block)\n",
    "block_info = BlockInfo().cell_unpack(block.info, True)\n",
    "block_extra = BlockExtra().cell_unpack(block.extra, False)\n",
    "\n",
    "rand_seed = int(block_extra.rand_seed, 2)"
   ]
  },
  {
   "cell_type": "code",
   "execution_count": 10,
   "id": "be13b773",
   "metadata": {},
   "outputs": [],
   "source": [
    "# To get prev block with account state - need to calculate correct shard (with account) if block is after merge\n",
    "# If not after merge - just get prev seqno\n",
    "if block_info.after_merge:    \n",
    "    left = block_info.prev_ref.prev1\n",
    "    left_shard = BlockIdExt(BlockId(wc, shard_child(current_block.blk_id.id.shard, True), left.seq_no),\n",
    "                           root_hash=int(left.root_hash,2), file_hash=int(left.file_hash, 2))\n",
    "    \n",
    "    right = block_info.prev_ref.prev2\n",
    "    right_shard = BlockIdExt(BlockId(wc, shard_child(current_block.blk_id.id.shard, False), right.seq_no),\n",
    "                           root_hash=int(right.root_hash,2), file_hash=int(right.file_hash, 2))\n",
    "    \n",
    "    if shard_is_ancestor(left_shard.id.shard, tx_account.shard_prefix(60)):\n",
    "        state_block = left_shard\n",
    "    else:\n",
    "        state_block = right_shard\n",
    "else:\n",
    "    current = block_info.prev_ref.prev\n",
    "    state_block = BlockIdExt(BlockId(wc, current_block.blk_id.id.shard, current.seq_no),\n",
    "                           root_hash=int(current.root_hash,2), file_hash=int(current.file_hash, 2))"
   ]
  },
  {
   "cell_type": "code",
   "execution_count": 11,
   "id": "8dd5c327",
   "metadata": {},
   "outputs": [
    {
     "name": "stdout",
     "output_type": "stream",
     "text": [
      "State block:  (-1,8000000000000000,35573004):8A2DA928338C24BB326B2323DDBE302A694D7BD645AD04267873C95DCD9143D8:0A13106A391D0E99F27166F82F520E4B08D91B79596A3D5CAD30D195937F67B1 \n",
      "\n"
     ]
    }
   ],
   "source": [
    "print(\"State block: \", state_block, \"\\n\")"
   ]
  },
  {
   "cell_type": "code",
   "execution_count": null,
   "id": "6a0e14a0",
   "metadata": {},
   "outputs": [],
   "source": []
  },
  {
   "cell_type": "code",
   "execution_count": 12,
   "id": "2e5ecda0",
   "metadata": {},
   "outputs": [],
   "source": [
    "# Load account state from prev block\n",
    "account_state = lc.get_account_state(f\"{wc}:{address}\", state_block)\n",
    "\n",
    "if not account_state.root.is_null():\n",
    "    # Convert answer to AccountShardState\n",
    "    account_state = begin_cell() \\\n",
    "        .store_ref(account_state.root) \\\n",
    "        .store_uint(int(account_state.last_trans_hash, 16), 256) \\\n",
    "        .store_uint(account_state.last_trans_lt, 64).end_cell()\n",
    "else:\n",
    "     account_state = begin_cell() \\\n",
    "        .store_ref(begin_cell().store_uint(0, 1).end_cell()) \\\n",
    "        .store_uint(int(account_state.last_trans_hash, 16), 256) \\\n",
    "        .store_uint(account_state.last_trans_lt, 64) \\\n",
    "        .end_cell()"
   ]
  },
  {
   "cell_type": "code",
   "execution_count": 13,
   "id": "5c89b9b6",
   "metadata": {},
   "outputs": [],
   "source": [
    "# Load config of prev key block of MC block where TX was\n",
    "# WARNING: this key block have no proof\n",
    "key_block, config = lc.get_config_all(master, from_not_trusted_keyblock=True)"
   ]
  },
  {
   "cell_type": "code",
   "execution_count": 14,
   "id": "93c12e5a",
   "metadata": {},
   "outputs": [
    {
     "name": "stdout",
     "output_type": "stream",
     "text": [
      "Latest key block:  (-1,8000000000000000,35563932):99C415D726468BFECB34191C12BF05F724BC331DB0648BC1A897EEE4D7BE40B7:017E7927E477DBE185E9C97F11690429FA3C9F315C8C28976BCAE9861D47AC5A\n"
     ]
    }
   ],
   "source": [
    "print(\"Latest key block: \", key_block)"
   ]
  },
  {
   "cell_type": "code",
   "execution_count": 15,
   "id": "2048593a",
   "metadata": {},
   "outputs": [],
   "source": [
    "# for emulation you need to get 16 latest mc blocks + 1 key block\n",
    "old_mc_blocks = []\n",
    "cur_seqno = master.id.seqno\n",
    "\n",
    "for i in range(16):\n",
    "    cur_seqno -= 1\n",
    "    old_mc_blocks.append(lc.lookup_block(BlockId(-1, 0x8000000000000000, cur_seqno)).blk_id)"
   ]
  },
  {
   "cell_type": "code",
   "execution_count": 16,
   "id": "cde1fc69",
   "metadata": {},
   "outputs": [],
   "source": [
    "prev_block_data = [\n",
    "    [i.to_data() for i in old_mc_blocks],\n",
    "    key_block.to_data()\n",
    "]"
   ]
  },
  {
   "cell_type": "code",
   "execution_count": 17,
   "id": "0dbdda38",
   "metadata": {},
   "outputs": [],
   "source": [
    "# Here we need to get all public libraries (todo: rewrite on new LS API if it'll be published)\n",
    "# Alternative: deep_library_search \n",
    "def get_public_libs(block_hash, wc, seqno, shard):\n",
    "    query = '''query{blocks(workchain: %s, seqno: %s, shard: %s, root_hash: \"%s\"){libs_hash}}''' % (wc, seqno, shard, block_hash)\n",
    "\n",
    "    response = requests.post(\"https://dton.io/graphql\", json={'query': query})\n",
    "    \n",
    "    data = response.json()['data']['blocks'][0]\n",
    "    return data['libs_hash']"
   ]
  },
  {
   "cell_type": "code",
   "execution_count": 18,
   "id": "73ec289e",
   "metadata": {},
   "outputs": [
    {
     "name": "stdout",
     "output_type": "stream",
     "text": [
      "Found:  41  public libs\n"
     ]
    }
   ],
   "source": [
    "public_libs = get_public_libs(master.root_hash, master.id.workchain, master.id.seqno, master.id.shard)\n",
    "\n",
    "print(\"Found: \", len(public_libs), \" public libs\")\n",
    "\n",
    "libs_data = lc.get_libraries(public_libs)"
   ]
  },
  {
   "cell_type": "code",
   "execution_count": 19,
   "id": "751e888d",
   "metadata": {},
   "outputs": [
    {
     "data": {
      "text/plain": [
       "'A6F2B93D979B047FF9F7283BFD7B5CF7EA80097E015664AE5FE88F1EC6D0FE94'"
      ]
     },
     "execution_count": 19,
     "metadata": {},
     "output_type": "execute_result"
    }
   ],
   "source": [
    "account_state.get_hash()"
   ]
  },
  {
   "cell_type": "code",
   "execution_count": 20,
   "id": "cb182937",
   "metadata": {},
   "outputs": [],
   "source": [
    "gg = lc.list_block_transactions_ext(master, 1)"
   ]
  },
  {
   "cell_type": "code",
   "execution_count": 21,
   "id": "845f51b5",
   "metadata": {},
   "outputs": [
    {
     "name": "stdout",
     "output_type": "stream",
     "text": [
      "8152ED6806549EB8A61CC29D3AA9149E1BA0D8529B3323C03AE92A17CC063818 3333333333333333333333333333333333333333333333333333333333333333 44077155000001\n"
     ]
    }
   ],
   "source": [
    "for i in gg.transactions:\n",
    "    tt = Transaction().cell_unpack(i)\n",
    "    print(i.get_hash(), tt.dump()['account_addr'], tt.dump()['lt'])"
   ]
  },
  {
   "cell_type": "markdown",
   "id": "a1a9ac25",
   "metadata": {},
   "source": [
    "# External emulator"
   ]
  },
  {
   "cell_type": "code",
   "execution_count": 22,
   "id": "eb7a7fc4",
   "metadata": {},
   "outputs": [],
   "source": [
    "from tonpy.tvm.not_native.emulator_extern import EmulatorExtern"
   ]
  },
  {
   "cell_type": "code",
   "execution_count": 23,
   "id": "fdb5d45e",
   "metadata": {},
   "outputs": [
    {
     "data": {
      "text/plain": [
       "True"
      ]
     },
     "execution_count": 23,
     "metadata": {},
     "output_type": "execute_result"
    }
   ],
   "source": [
    "em = EmulatorExtern(\"/Users/tvorogme/projects/ton-disintar/build/emulator/libemulator.dylib\", config)\n",
    "\n",
    "em.set_rand_seed(rand_seed)\n",
    "em.set_prev_blocks(prev_block_data)\n",
    "em.set_libs(libs_data)"
   ]
  },
  {
   "cell_type": "code",
   "execution_count": 24,
   "id": "804b800c",
   "metadata": {},
   "outputs": [
    {
     "name": "stdout",
     "output_type": "stream",
     "text": [
      "Emulate 8152ED6806549EB8A61CC29D3AA9149E1BA0D8529B3323C03AE92A17CC063818 success\n",
      "Emulate F8EAC78DA7005B67B4A473CB77CF90ACD4A31B883E0E6C2806ADB4C0D2B3E616 success\n"
     ]
    }
   ],
   "source": [
    "for tx in whitelist_txs:\n",
    "    # Get current transaction LT & now\n",
    "    current_tx = tx.transaction\n",
    "\n",
    "    tx_tlb = Transaction()\n",
    "    tx_tlb = tx_tlb.cell_unpack(current_tx, True)\n",
    "\n",
    "    lt = tx_tlb.lt\n",
    "    now = tx_tlb.now\n",
    "    \n",
    "    # Get current trasaction in_msg\n",
    "    current_tx_cs = current_tx.begin_parse()\n",
    "    tmp = current_tx_cs.load_ref(as_cs=True)\n",
    "\n",
    "    if tmp.load_bool():\n",
    "        in_msg = tmp.load_ref()\n",
    "    else:\n",
    "        # TICK TOCK\n",
    "        in_msg = None\n",
    "\n",
    "    if in_msg is None:\n",
    "        success = em.emulate_tick_tock_transaction(\n",
    "                    account_state,\n",
    "                    tx_tlb.description.is_tock,\n",
    "                    now,\n",
    "                    lt\n",
    "                )\n",
    "    else:\n",
    "        # Emulate\n",
    "        success = em.emulate_transaction(\n",
    "            account_state,\n",
    "            in_msg,\n",
    "            now,\n",
    "            lt\n",
    "        )\n",
    "        \n",
    "    assert success\n",
    "    \n",
    "    # Emulation transaction equal current transaction\n",
    "    assert em.transaction.get_hash() == current_tx.get_hash()\n",
    "    print(f\"Emulate {current_tx.get_hash()} success\")\n",
    "    \n",
    "    # Update account state, go to next transaction\n",
    "    account_state = em.account.to_cell()"
   ]
  },
  {
   "cell_type": "code",
   "execution_count": null,
   "id": "084882d8",
   "metadata": {},
   "outputs": [],
   "source": []
  }
 ],
 "metadata": {
  "kernelspec": {
   "display_name": "Python 3 (ipykernel)",
   "language": "python",
   "name": "python3"
  },
  "language_info": {
   "codemirror_mode": {
    "name": "ipython",
    "version": 3
   },
   "file_extension": ".py",
   "mimetype": "text/x-python",
   "name": "python",
   "nbconvert_exporter": "python",
   "pygments_lexer": "ipython3",
   "version": "3.9.17"
  }
 },
 "nbformat": 4,
 "nbformat_minor": 5
}
