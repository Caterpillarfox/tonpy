{
 "cells": [
  {
   "cell_type": "code",
   "execution_count": 6,
   "id": "51d2c19d",
   "metadata": {},
   "outputs": [],
   "source": [
    "import sys\n",
    "sys.path.append(\"../src\")"
   ]
  },
  {
   "cell_type": "code",
   "execution_count": 9,
   "id": "e2d9cc7a",
   "metadata": {},
   "outputs": [],
   "source": [
    "from tonpy.libs.python_ton import *"
   ]
  },
  {
   "cell_type": "code",
   "execution_count": 14,
   "id": "055308ed",
   "metadata": {},
   "outputs": [],
   "source": [
    "b = PyCellBuilder()"
   ]
  },
  {
   "cell_type": "code",
   "execution_count": 15,
   "id": "7aa7fc49",
   "metadata": {},
   "outputs": [
    {
     "data": {
      "text/plain": [
       "<CellBuilder Cell bits: 0..64; refs: 0..0>"
      ]
     },
     "execution_count": 15,
     "metadata": {},
     "output_type": "execute_result"
    }
   ],
   "source": [
    "b.store_int_str(\"123\", 64)"
   ]
  },
  {
   "cell_type": "code",
   "execution_count": 18,
   "id": "53af8868",
   "metadata": {
    "scrolled": true
   },
   "outputs": [
    {
     "data": {
      "text/plain": [
       "'te6ccuEBAQEACgAUABAAAAAAAAAAe4EqE1s='"
      ]
     },
     "execution_count": 18,
     "metadata": {},
     "output_type": "execute_result"
    }
   ],
   "source": [
    "b.to_boc()"
   ]
  },
  {
   "cell_type": "code",
   "execution_count": 19,
   "id": "e08dcfb6",
   "metadata": {},
   "outputs": [],
   "source": [
    "cell = parseStringToCell('te6ccuEBAQEACgAUABAAAAAAAAAAe4EqE1s=')"
   ]
  },
  {
   "cell_type": "code",
   "execution_count": 25,
   "id": "64c9c519",
   "metadata": {},
   "outputs": [],
   "source": [
    "cs = cell.begin_parse()"
   ]
  },
  {
   "cell_type": "code",
   "execution_count": 26,
   "id": "fc138520",
   "metadata": {},
   "outputs": [],
   "source": [
    "assert cs.load_int(64) == '123'"
   ]
  },
  {
   "cell_type": "code",
   "execution_count": null,
   "id": "9ed463b5",
   "metadata": {},
   "outputs": [],
   "source": []
  }
 ],
 "metadata": {
  "kernelspec": {
   "display_name": "Python 3 (ipykernel)",
   "language": "python",
   "name": "python3"
  },
  "language_info": {
   "codemirror_mode": {
    "name": "ipython",
    "version": 3
   },
   "file_extension": ".py",
   "mimetype": "text/x-python",
   "name": "python",
   "nbconvert_exporter": "python",
   "pygments_lexer": "ipython3",
   "version": "3.9.12"
  }
 },
 "nbformat": 4,
 "nbformat_minor": 5
}
