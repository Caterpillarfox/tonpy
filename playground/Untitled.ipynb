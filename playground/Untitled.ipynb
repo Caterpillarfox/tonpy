{
 "cells": [
  {
   "cell_type": "code",
   "execution_count": null,
   "id": "d98b01b1-51f9-48b8-8946-904c2f9e91dc",
   "metadata": {},
   "outputs": [],
   "source": [
    "from tonpy import *\n",
    "from datetime import datetime\n",
    "from time import sleep\n",
    "\n",
    "lc = LiteClient(host=\"198.244.203.68\",\n",
    "              port=8089,\n",
    "              pubkey_hex=\"FB52590A447C3B3C45BB395A051E6E2CE12161F757B94FEFDF48899C982AA28C\", timeout=5)\n",
    "\n",
    "print(lc.get_masterchain_info_ext().last)"
   ]
  },
  {
   "cell_type": "code",
   "execution_count": null,
   "id": "c071c202-f699-4fc3-ac28-a14fa0a9c193",
   "metadata": {},
   "outputs": [],
   "source": [
    "data = []"
   ]
  },
  {
   "cell_type": "code",
   "execution_count": null,
   "id": "89da2939-1995-4bde-be8b-b3603f271496",
   "metadata": {},
   "outputs": [],
   "source": [
    "while True:\n",
    "    tick = datetime.now()\n",
    "    \n",
    "    try:\n",
    "        block = lc.get_masterchain_info_ext().last\n",
    "        print(tick, block)\n",
    "        lc.get_config_all(block)\n",
    "        data.append([tick, True, block])\n",
    "    except Exception as e:\n",
    "        print(tick, str(e))\n",
    "        data.append([tick, False, str(e)])\n",
    "    \n",
    "    sleep(5)"
   ]
  },
  {
   "cell_type": "code",
   "execution_count": null,
   "id": "a5fd6ef0-8cbd-4f1a-b5dd-bc7df0a26a8b",
   "metadata": {},
   "outputs": [],
   "source": [
    "lc.get_config_all(block)"
   ]
  },
  {
   "cell_type": "code",
   "execution_count": null,
   "id": "0861311a-d473-4a0f-93a7-419c99ea313e",
   "metadata": {},
   "outputs": [],
   "source": [
    "lc.get_all_shards_info(block)"
   ]
  },
  {
   "cell_type": "code",
   "execution_count": null,
   "id": "aa5349c7-6b9b-414d-81a7-54311cc96c14",
   "metadata": {},
   "outputs": [],
   "source": []
  },
  {
   "cell_type": "code",
   "execution_count": null,
   "id": "e7dd744d-d00a-4bcc-977a-6207a5bb1f67",
   "metadata": {},
   "outputs": [],
   "source": []
  }
 ],
 "metadata": {
  "kernelspec": {
   "display_name": "Python 3 (ipykernel)",
   "language": "python",
   "name": "python3"
  },
  "language_info": {
   "codemirror_mode": {
    "name": "ipython",
    "version": 3
   },
   "file_extension": ".py",
   "mimetype": "text/x-python",
   "name": "python",
   "nbconvert_exporter": "python",
   "pygments_lexer": "ipython3",
   "version": "3.10.12"
  }
 },
 "nbformat": 4,
 "nbformat_minor": 5
}
